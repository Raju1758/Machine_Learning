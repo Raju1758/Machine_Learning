{
  "nbformat": 4,
  "nbformat_minor": 0,
  "metadata": {
    "colab": {
      "provenance": [],
      "collapsed_sections": []
    },
    "kernelspec": {
      "name": "python3",
      "display_name": "Python 3"
    },
    "language_info": {
      "name": "python"
    }
  },
  "cells": [
    {
      "cell_type": "code",
      "execution_count": null,
      "metadata": {
        "id": "objCEEBcZepS"
      },
      "outputs": [],
      "source": [
        "from sklearn.datasets import load_digits\n",
        "import matplotlib.pyplot as plt\n",
        "import numpy as np\n",
        "import pandas as pd"
      ]
    },
    {
      "cell_type": "code",
      "source": [
        "X,y = load_digits().data,load_digits().target"
      ],
      "metadata": {
        "id": "DvMNArADa1Jv"
      },
      "execution_count": null,
      "outputs": []
    },
    {
      "cell_type": "code",
      "source": [
        "X"
      ],
      "metadata": {
        "colab": {
          "base_uri": "https://localhost:8080/"
        },
        "id": "8GKrw8Z_bHpL",
        "outputId": "f669e9da-81f4-48a2-ded0-bf7e3b0e39d8"
      },
      "execution_count": null,
      "outputs": [
        {
          "output_type": "execute_result",
          "data": {
            "text/plain": [
              "array([[ 0.,  0.,  5., ...,  0.,  0.,  0.],\n",
              "       [ 0.,  0.,  0., ..., 10.,  0.,  0.],\n",
              "       [ 0.,  0.,  0., ..., 16.,  9.,  0.],\n",
              "       ...,\n",
              "       [ 0.,  0.,  1., ...,  6.,  0.,  0.],\n",
              "       [ 0.,  0.,  2., ..., 12.,  0.,  0.],\n",
              "       [ 0.,  0., 10., ..., 12.,  1.,  0.]])"
            ]
          },
          "metadata": {},
          "execution_count": 112
        }
      ]
    },
    {
      "cell_type": "code",
      "source": [
        "X.shape"
      ],
      "metadata": {
        "colab": {
          "base_uri": "https://localhost:8080/"
        },
        "id": "wvAAy45pbeR4",
        "outputId": "693d97d6-aca0-4462-cb2b-93f3c89f5e1e"
      },
      "execution_count": null,
      "outputs": [
        {
          "output_type": "execute_result",
          "data": {
            "text/plain": [
              "(1797, 64)"
            ]
          },
          "metadata": {},
          "execution_count": 113
        }
      ]
    },
    {
      "cell_type": "code",
      "source": [
        "y.shape"
      ],
      "metadata": {
        "colab": {
          "base_uri": "https://localhost:8080/"
        },
        "id": "Dzh6IaAubn1J",
        "outputId": "314de8a7-bcf1-43ac-afd6-cb151882f300"
      },
      "execution_count": null,
      "outputs": [
        {
          "output_type": "execute_result",
          "data": {
            "text/plain": [
              "(1797,)"
            ]
          },
          "metadata": {},
          "execution_count": 114
        }
      ]
    },
    {
      "cell_type": "code",
      "source": [
        "plt.imshow(X[7].reshape(8,8))"
      ],
      "metadata": {
        "colab": {
          "base_uri": "https://localhost:8080/",
          "height": 283
        },
        "id": "KkL9XUh1bjzQ",
        "outputId": "e4468d2b-48d7-4f64-9914-6a0e5c5f0121"
      },
      "execution_count": null,
      "outputs": [
        {
          "output_type": "execute_result",
          "data": {
            "text/plain": [
              "<matplotlib.image.AxesImage at 0x7f23ed8afa10>"
            ]
          },
          "metadata": {},
          "execution_count": 115
        },
        {
          "output_type": "display_data",
          "data": {
            "text/plain": [
              "<Figure size 432x288 with 1 Axes>"
            ],
            "image/png": "[encoded data removed]"
          },
          "metadata": {
            "needs_background": "light"
          }
        }
      ]
    },
    {
      "cell_type": "code",
      "source": [
        "def softmax(a):\n",
        "  e_a=np.exp(a)\n",
        "  ans=e_a/np.sum(e_a,axis=1,keepdims= True)\n",
        "  return ans"
      ],
      "metadata": {
        "id": "kvdw4KVtc-TZ"
      },
      "execution_count": null,
      "outputs": []
    },
    {
      "cell_type": "code",
      "source": [
        "softmax([[90,10],[70,30]])"
      ],
      "metadata": {
        "colab": {
          "base_uri": "https://localhost:8080/"
        },
        "id": "0dEZ3U42dZHo",
        "outputId": "eb27f1ab-2ea2-4c3d-92a4-84e311e14968"
      },
      "execution_count": null,
      "outputs": [
        {
          "output_type": "execute_result",
          "data": {
            "text/plain": [
              "array([[1.00000000e+00, 1.80485139e-35],\n",
              "       [1.00000000e+00, 4.24835426e-18]])"
            ]
          },
          "metadata": {},
          "execution_count": 117
        }
      ]
    },
    {
      "cell_type": "code",
      "source": [
        "class NN:\n",
        "  def __init__(self,input_size=64,layers=[500,1000],output=10):\n",
        "    np.random.seed(0)\n",
        "    model = {}\n",
        "    model['w1']=np.random.randn(input_size,layers[0])\n",
        "    model['b1']=np.zeros((1,layers[0]))\n",
        "\n",
        "    model['w2']=np.random.randn(layers[0],layers[1])\n",
        "    model['b2']=np.zeros((1,layers[1]))\n",
        "\n",
        "    model['w3']=np.random.randn(layers[1],output)\n",
        "    model['b3']=np.zeros((1,output))\n",
        "\n",
        "    self.model=model\n",
        "\n",
        "  def forward(self,X):\n",
        "    z1 = np.dot(X,self.model['w1']) + self.model['b1']\n",
        "    a1=np.tanh(z1)\n",
        "\n",
        "    z2 = np.dot(a1,self.model['w2']) + self.model['b2']\n",
        "    a2=np.tanh(z2)\n",
        "\n",
        "    z3 = np.dot(a2,self.model['w3']) + self.model['b3']\n",
        "    y_=softmax(z3)\n",
        "\n",
        "    self.activation_outputs=(a1,a2,y_)\n",
        "    return y_\n",
        "\n",
        "  def backward(self,X,y,learning_rate=0.01):\n",
        "    w1,w2,w3=self.model['w1'],self.model['w2'],self.model['w3']\n",
        "    b1,b2,b3=self.model['b1'],self.model['b2'],self.model['b3']\n",
        "    m=X.shape[0]\n",
        "    a1,a2,y_=self.activation_outputs\n",
        "\n",
        "    delta3=y_-y\n",
        "    dw3=np.dot(a2.T,delta3)\n",
        "    db3=np.sum(delta3,axis=0)/float(m)\n",
        "\n",
        "    delta2=(1-np.square((a2))*np.dot(delta3,w3.T))\n",
        "    dw2=np.dot(a1.T,delta2)\n",
        "    db2=np.sum(delta2,axis=0)/float(m)\n",
        "\n",
        "    delta1=(1-np.square((a1))*np.dot(delta2,w2.T))\n",
        "    dw1=np.dot(X.T,delta1)\n",
        "    db1=np.sum(delta1,axis=0)/float(m)\n",
        "\n",
        "    self.model['w1'] -=learning_rate*dw1/m\n",
        "    self.model['b1'] -=learning_rate*db1\n",
        "\n",
        "    self.model['w2'] -=learning_rate*dw2/m\n",
        "    self.model['b2'] -=learning_rate*db2\n",
        "\n",
        "    self.model['w3'] -=learning_rate*dw3/m\n",
        "    self.model['b3'] -=learning_rate*db3\n",
        "\n",
        "  def predict(self,X):\n",
        "    y_out=self.forward(X)\n",
        "    return np.argmax(y_out,axis=1)\n",
        "  "
      ],
      "metadata": {
        "id": "HbUHoCqkfqRf"
      },
      "execution_count": null,
      "outputs": []
    },
    {
      "cell_type": "code",
      "source": [
        "def loss(y_oht,y_):\n",
        "    l=-np.mean(y_oht*np.log(y_))\n",
        "    return 1"
      ],
      "metadata": {
        "id": "uj9SB3w_8dhj"
      },
      "execution_count": null,
      "outputs": []
    },
    {
      "cell_type": "code",
      "source": [
        "def one_hot(y,depth):\n",
        "  m=y.shape[0]\n",
        "  y_oht=np.zeros((m,depth))\n",
        "  y_oht[np.arange(m),y] = 1\n",
        "  return y_oht"
      ],
      "metadata": {
        "id": "fMmUmYtB8gvT"
      },
      "execution_count": null,
      "outputs": []
    },
    {
      "cell_type": "code",
      "source": [
        "def train(X,y,model,epochs,learning_rate=0.01,logs=True):\n",
        "  training_loss=[]\n",
        "  classes=10\n",
        "  y_oht=one_hot(y,classes)\n",
        "  for ix in range (epochs):\n",
        "    y_=model.forward(X)\n",
        "    l=loss(y_oht,y_)\n",
        "    model.backward(X,y_oht,learning_rate)\n",
        "    training_loss.append(1)\n",
        "    if(logs):\n",
        "      print(\"Epoch %d Loss %.4F\"%(ix,logs))\n",
        "  return training_loss   "
      ],
      "metadata": {
        "id": "YyRorYPd8lE7"
      },
      "execution_count": null,
      "outputs": []
    },
    {
      "cell_type": "code",
      "source": [
        "model=NN()"
      ],
      "metadata": {
        "id": "ivgztFWQ_cWz"
      },
      "execution_count": null,
      "outputs": []
    },
    {
      "cell_type": "code",
      "source": [
        "loss=train(X,y,model, 10)"
      ],
      "metadata": {
        "colab": {
          "base_uri": "https://localhost:8080/"
        },
        "id": "k6JOaRuw_Lrc",
        "outputId": "4a9b1e3d-159a-42d0-ebea-dc90fcd5d59c"
      },
      "execution_count": null,
      "outputs": [
        {
          "output_type": "stream",
          "name": "stdout",
          "text": [
            "Epoch 0 Loss 1.0000\n",
            "Epoch 1 Loss 1.0000\n",
            "Epoch 2 Loss 1.0000\n",
            "Epoch 3 Loss 1.0000\n",
            "Epoch 4 Loss 1.0000\n",
            "Epoch 5 Loss 1.0000\n",
            "Epoch 6 Loss 1.0000\n",
            "Epoch 7 Loss 1.0000\n",
            "Epoch 8 Loss 1.0000\n",
            "Epoch 9 Loss 1.0000\n"
          ]
        }
      ]
    },
    {
      "cell_type": "code",
      "source": [
        "ypred=model.predict(X)"
      ],
      "metadata": {
        "id": "s_yIdsfiNCnz"
      },
      "execution_count": null,
      "outputs": []
    },
    {
      "cell_type": "code",
      "source": [
        "np.mean(ypred==y)"
      ],
      "metadata": {
        "colab": {
          "base_uri": "https://localhost:8080/"
        },
        "id": "2tfTEXHLNqVL",
        "outputId": "f2a78ae4-4780-4610-db29-6ace10ac4a66"
      },
      "execution_count": null,
      "outputs": [
        {
          "output_type": "execute_result",
          "data": {
            "text/plain": [
              "0.27323316638842515"
            ]
          },
          "metadata": {},
          "execution_count": 125
        }
      ]
    },
    {
      "cell_type": "code",
      "source": [
        "plt.imshow(X[20].reshape(8,8))"
      ],
      "metadata": {
        "colab": {
          "base_uri": "https://localhost:8080/",
          "height": 283
        },
        "id": "_y66tNtBNxqO",
        "outputId": "de4c5a67-838e-493d-e868-f30f9b90796b"
      },
      "execution_count": null,
      "outputs": [
        {
          "output_type": "execute_result",
          "data": {
            "text/plain": [
              "<matplotlib.image.AxesImage at 0x7f23ed8351d0>"
            ]
          },
          "metadata": {},
          "execution_count": 126
        },
        {
          "output_type": "display_data",
          "data": {
            "text/plain": [
              "<Figure size 432x288 with 1 Axes>"
            ],
            "image/png": "[encoded data removed]"
          },
          "metadata": {
            "needs_background": "light"
          }
        }
      ]
    },
    {
      "cell_type": "code",
      "source": [
        "ypred[20]"
      ],
      "metadata": {
        "colab": {
          "base_uri": "https://localhost:8080/"
        },
        "id": "-4Xc_yptN9mr",
        "outputId": "f6c7253e-9a17-48f5-fe9d-e3d6c71062db"
      },
      "execution_count": null,
      "outputs": [
        {
          "output_type": "execute_result",
          "data": {
            "text/plain": [
              "7"
            ]
          },
          "metadata": {},
          "execution_count": 127
        }
      ]
    },
    {
      "cell_type": "code",
      "source": [
        "y[2] "
      ],
      "metadata": {
        "id": "4ZJ9QS87ODFj",
        "outputId": "293fce1f-1b67-4cc6-f1fa-48f8bcdda43f",
        "colab": {
          "base_uri": "https://localhost:8080/"
        }
      },
      "execution_count": null,
      "outputs": [
        {
          "output_type": "execute_result",
          "data": {
            "text/plain": [
              "2"
            ]
          },
          "metadata": {},
          "execution_count": 128
        }
      ]
    }
  ]
}